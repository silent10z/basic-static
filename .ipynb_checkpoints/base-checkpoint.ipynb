{
 "cells": [
  {
   "cell_type": "markdown",
   "metadata": {},
   "source": [
    "# 범주형 변수"
   ]
  },
  {
   "cell_type": "code",
   "execution_count": 1,
   "metadata": {},
   "outputs": [
    {
     "data": {
      "text/plain": [
       "(array(['A', 'AB', 'B', 'O'], dtype='<U2'), array([3, 1, 2, 1], dtype=int64))"
      ]
     },
     "execution_count": 1,
     "metadata": {},
     "output_type": "execute_result"
    }
   ],
   "source": [
    "import numpy as np\n",
    "blood = ['A', 'A', 'A', \"B\", 'B', 'AB', 'O']\n",
    "np.unique(blood, return_counts=True)\n"
   ]
  },
  {
   "cell_type": "code",
   "execution_count": 2,
   "metadata": {},
   "outputs": [
    {
     "data": {
      "text/plain": [
       "A     3\n",
       "B     2\n",
       "O     1\n",
       "AB    1\n",
       "dtype: int64"
      ]
     },
     "execution_count": 2,
     "metadata": {},
     "output_type": "execute_result"
    }
   ],
   "source": [
    "import pandas as pd\n",
    "pd.Series(blood).value_counts()"
   ]
  },
  {
   "cell_type": "code",
   "execution_count": 3,
   "metadata": {},
   "outputs": [
    {
     "data": {
      "text/plain": [
       "<matplotlib.axes._subplots.AxesSubplot at 0x23c360f7748>"
      ]
     },
     "execution_count": 3,
     "metadata": {},
     "output_type": "execute_result"
    },
    {
     "data": {
      "image/png": "[encoded data removed]",
      "text/plain": [
       "<Figure size 432x288 with 1 Axes>"
      ]
     },
     "metadata": {
      "needs_background": "light"
     },
     "output_type": "display_data"
    }
   ],
   "source": [
    "import seaborn as sns\n",
    "sns.countplot(blood)"
   ]
  },
  {
   "cell_type": "markdown",
   "metadata": {},
   "source": [
    "# 연속형 변수"
   ]
  },
  {
   "cell_type": "code",
   "execution_count": 4,
   "metadata": {},
   "outputs": [],
   "source": [
    "x = [1, 1, 1, 2, 3, 5,5, 7, 8, 9]\n",
    "hist, edges = np.histogram(x, 4)"
   ]
  },
  {
   "cell_type": "code",
   "execution_count": 5,
   "metadata": {},
   "outputs": [
    {
     "data": {
      "text/plain": [
       "array([1., 3., 5., 7., 9.])"
      ]
     },
     "execution_count": 5,
     "metadata": {},
     "output_type": "execute_result"
    }
   ],
   "source": [
    "edges"
   ]
  },
  {
   "cell_type": "code",
   "execution_count": 6,
   "metadata": {},
   "outputs": [
    {
     "data": {
      "text/plain": [
       "array([4, 1, 2, 3], dtype=int64)"
      ]
     },
     "execution_count": 6,
     "metadata": {},
     "output_type": "execute_result"
    }
   ],
   "source": [
    "hist"
   ]
  },
  {
   "cell_type": "markdown",
   "metadata": {},
   "source": [
    "### 빈도수 대로 나누어서 사용\n",
    "bin= 4 범위를 4개의 구간으로 나눔"
   ]
  },
  {
   "cell_type": "code",
   "execution_count": 7,
   "metadata": {},
   "outputs": [
    {
     "data": {
      "text/plain": [
       "<matplotlib.axes._subplots.AxesSubplot at 0x23c38099988>"
      ]
     },
     "execution_count": 7,
     "metadata": {},
     "output_type": "execute_result"
    },
    {
     "data": {
      "image/png": "[encoded data removed]",
      "text/plain": [
       "<Figure size 432x288 with 1 Axes>"
      ]
     },
     "metadata": {
      "needs_background": "light"
     },
     "output_type": "display_data"
    }
   ],
   "source": [
    "sns.distplot(x , bins=4 ,kde=False)"
   ]
  },
  {
   "cell_type": "markdown",
   "metadata": {},
   "source": [
    "# 중심경향치(평균, 최빈치, 중앙값) "
   ]
  },
  {
   "cell_type": "markdown",
   "metadata": {},
   "source": [
    "## 평균(mean) : 자료의 합을 자료의 갯수로 나눈 값"
   ]
  },
  {
   "cell_type": "code",
   "execution_count": 8,
   "metadata": {},
   "outputs": [],
   "source": [
    "x = [100, 100, 200 ,400, 500]"
   ]
  },
  {
   "cell_type": "code",
   "execution_count": 9,
   "metadata": {},
   "outputs": [
    {
     "data": {
      "text/plain": [
       "260.0"
      ]
     },
     "execution_count": 9,
     "metadata": {},
     "output_type": "execute_result"
    }
   ],
   "source": [
    "np.mean(x)"
   ]
  },
  {
   "cell_type": "markdown",
   "metadata": {},
   "source": [
    "## median = 가장 작은값부터 큰값까지 정렬후 중간값을 구함"
   ]
  },
  {
   "cell_type": "code",
   "execution_count": 10,
   "metadata": {},
   "outputs": [
    {
     "data": {
      "text/plain": [
       "200.0"
      ]
     },
     "execution_count": 10,
     "metadata": {},
     "output_type": "execute_result"
    }
   ],
   "source": [
    "np.median(x)"
   ]
  },
  {
   "cell_type": "markdown",
   "metadata": {},
   "source": [
    "### 데이터가 짝수 개일 경우에는 가운데 두 값의 평균을 나타냄"
   ]
  },
  {
   "cell_type": "code",
   "execution_count": 11,
   "metadata": {},
   "outputs": [
    {
     "data": {
      "text/plain": [
       "150.0"
      ]
     },
     "execution_count": 11,
     "metadata": {},
     "output_type": "execute_result"
    }
   ],
   "source": [
    "np.median(x[0:4])"
   ]
  },
  {
   "cell_type": "markdown",
   "metadata": {},
   "source": [
    "## 최빈값(mode): 가장 빈번하게 관찰/측정되는 값"
   ]
  },
  {
   "cell_type": "code",
   "execution_count": 12,
   "metadata": {},
   "outputs": [
    {
     "data": {
      "text/plain": [
       "ModeResult(mode=array([100]), count=array([2]))"
      ]
     },
     "execution_count": 12,
     "metadata": {},
     "output_type": "execute_result"
    }
   ],
   "source": [
    "from scipy.stats import mode\n",
    "mode(x)"
   ]
  },
  {
   "cell_type": "markdown",
   "metadata": {},
   "source": [
    "# 변상성 측정치(분산, 표준편차, 범위, 사분위간 범위)"
   ]
  },
  {
   "cell_type": "markdown",
   "metadata": {},
   "source": [
    "## 변산성(variability): 자료가 흩어져 있는 정도, 혹은 개체에 따라 변할 수 있는 정도\n",
    "## 중심 경향치: 자료가 무엇을 중심으로 모여있는가(혹은 흩어져 있는가)를 나타는것이라면 변산성 측정치는, 그 모여있는 정도(혹은 흩어져 있는 정도를)의미함"
   ]
  },
  {
   "cell_type": "code",
   "execution_count": 13,
   "metadata": {},
   "outputs": [],
   "source": [
    "x = [1, 1, 2, 3, 3, 3, 4, 5, 5, 7]"
   ]
  },
  {
   "cell_type": "markdown",
   "metadata": {},
   "source": [
    "## 범위(range)\n",
    "최댓값- 최솟값 "
   ]
  },
  {
   "cell_type": "code",
   "execution_count": 14,
   "metadata": {},
   "outputs": [
    {
     "name": "stdout",
     "output_type": "stream",
     "text": [
      "6\n"
     ]
    }
   ],
   "source": [
    "x_range = np.max(x) -np.min(x)\n",
    "print(x_range)"
   ]
  },
  {
   "cell_type": "markdown",
   "metadata": {},
   "source": [
    "## 분산: 평균에서 데이터가 벗어난 정도를 수치화 한값\n",
    "1. 각각의 데이터에서 평균값을 뺴고, 그것을 제곱하여 평균을 구함\n",
    "2. 분산이 크면: 데이터가 평균에서 많이 벗어나 있다.\n",
    "3. 분산이 작으면: 데이터가 평균 주변에 모여 있다."
   ]
  },
  {
   "cell_type": "code",
   "execution_count": 15,
   "metadata": {},
   "outputs": [
    {
     "ename": "NameError",
     "evalue": "name 'numpy' is not defined",
     "output_type": "error",
     "traceback": [
      "\u001b[1;31m---------------------------------------------------------------------------\u001b[0m",
      "\u001b[1;31mNameError\u001b[0m                                 Traceback (most recent call last)",
      "\u001b[1;32m<ipython-input-15-c99754197b8b>\u001b[0m in \u001b[0;36m<module>\u001b[1;34m\u001b[0m\n\u001b[1;32m----> 1\u001b[1;33m \u001b[0mnumpy\u001b[0m\u001b[1;33m.\u001b[0m\u001b[0mvar\u001b[0m\u001b[1;33m(\u001b[0m\u001b[0mx\u001b[0m\u001b[1;33m)\u001b[0m\u001b[1;33m\u001b[0m\u001b[1;33m\u001b[0m\u001b[0m\n\u001b[0m",
      "\u001b[1;31mNameError\u001b[0m: name 'numpy' is not defined"
     ]
    }
   ],
   "source": [
    "numpy.var(x)"
   ]
  },
  {
   "cell_type": "markdown",
   "metadata": {},
   "source": [
    "## 표준편차: 분산의 양의 제곱근"
   ]
  },
  {
   "cell_type": "code",
   "execution_count": null,
   "metadata": {},
   "outputs": [],
   "source": [
    "numpy.std(x)"
   ]
  },
  {
   "cell_type": "code",
   "execution_count": null,
   "metadata": {},
   "outputs": [],
   "source": [
    "np.sqrt(np.var(x))"
   ]
  },
  {
   "cell_type": "markdown",
   "metadata": {},
   "source": [
    "## 사분위간 범위(IQR, InterQuartile Range)는 제3사분위수에서 제1사분위수 간의 범위\n",
    "1. 사분위수란 전체 데이터를 작은 값부터 큰값까지 순서대로 나열후 4등분 하였을 떄, 각지점에 해당하는 값\n",
    "제1사분위수(Q1) : 25% 지점<br>\n",
    "제2사분위수(Q2) : 50% 지점 = 중간값 <br>\n",
    "제3사분위수(Q3) : 75% <br> \n",
    "2. 제1사분위수와 제 3사분위수 사이의 구간에는 항상 전체 데이터의 50%가 포함이된다.\n",
    "3. 사분위는 임위로 정하는 기준으로 필요에 따라 십분위 등으로 변경이 가능하다.\n",
    "<strong>이는 극단값의 영향을 줄일수 있다.</strong>"
   ]
  },
  {
   "cell_type": "code",
   "execution_count": null,
   "metadata": {},
   "outputs": [],
   "source": [
    "x.append(9)\n",
    "x.append(10)\n",
    "print(x)"
   ]
  },
  {
   "cell_type": "code",
   "execution_count": null,
   "metadata": {},
   "outputs": [],
   "source": [
    "Q1 = np.quantile(x, .25)\n",
    "Q1"
   ]
  },
  {
   "cell_type": "code",
   "execution_count": null,
   "metadata": {},
   "outputs": [],
   "source": [
    "Q2 = np.quantile(x, .5)\n",
    "Q2"
   ]
  },
  {
   "cell_type": "code",
   "execution_count": null,
   "metadata": {},
   "outputs": [],
   "source": [
    "np.median(x)"
   ]
  },
  {
   "cell_type": "code",
   "execution_count": null,
   "metadata": {},
   "outputs": [],
   "source": [
    "Q3 = np.quantile(x, .75)\n",
    "Q3"
   ]
  },
  {
   "cell_type": "code",
   "execution_count": null,
   "metadata": {},
   "outputs": [],
   "source": [
    "print(\"사분위간 범위: {}\".format(Q3- Q1))\n"
   ]
  },
  {
   "cell_type": "markdown",
   "metadata": {},
   "source": [
    "## 변산성 측정치를 이용한 이상점(outliner) 진단\n",
    "- 대부분의 자료는 중심경향치 주변에 몰려있음\n",
    "- 변산성 측정치를 기준으로 벗어난 정도를 파악할 수 있다.\n",
    "- 평균에서 벗어난 정도를 판단할 때는 표준편차를 사용\n",
    "- 평균에서 표준편자의 n배 떨어져 있으면 \"n 표준편차\"와 같이 표현\n",
    "- 중간값에서 벗어난 정도를 판단할 떄는 Inter Quantile Range 를 사용\n",
    "- 중심경향치에서 크게 벗어났다면 이상점으로 의심할 수 있다."
   ]
  },
  {
   "cell_type": "markdown",
   "metadata": {},
   "source": [
    "# 공분산\n",
    "공분산(coariance): 두 변수가 함께 변화하는 정도를 나타내는 지표\n",
    "\n",
    "## 공분산의 해석\n",
    "\n",
    "부호:\n",
    "- 공분산이 +인 경우: 두 변수가 같은 방향으로 변화(하나가 증가하면 다른 하나가 증가)\n",
    "- 공분산이 -인 경우: 두 변수가 반대 방향으로 변화(하나가 증가하면 다른 하는 감소)\n",
    "크기:\n",
    "- 공분산 =0이면 두 변수가 독립,즉, 한변수의 변화로 다른 변수의 변화를 예측 못함\n",
    "- 공분산의 크기가 클수록 두 변수는 함께 많이 변화\n",
    "- 단위에 따라 공분산의 크기가 달라지므로 절대적 크기로 판단이 어려움\n",
    "- 공분산의 -1 ~1 범위로 표준화 시킨 것이 상관계수\n",
    "<br> <strong> 공분산은 선형적인 관계를 측정하기 떄문에 두 변수가 비선형적으로 함께 변하는 경우는 잘 측정하지 </strong>"
   ]
  },
  {
   "cell_type": "code",
   "execution_count": null,
   "metadata": {},
   "outputs": [],
   "source": [
    "x = [8, 3, 6, 6, 9, 4, 3, 9, 3, 4]\n",
    "y = [6, 2, 4, 6, 10, 5, 1, 8, 4, 5]"
   ]
  },
  {
   "cell_type": "code",
   "execution_count": null,
   "metadata": {},
   "outputs": [],
   "source": [
    "import matplotlib.pyplot as plt\n",
    "plt.plot(x, y, 'o')"
   ]
  },
  {
   "cell_type": "code",
   "execution_count": null,
   "metadata": {},
   "outputs": [],
   "source": [
    "np.cov(x, y)"
   ]
  },
  {
   "cell_type": "code",
   "execution_count": null,
   "metadata": {},
   "outputs": [],
   "source": [
    "np.cov(x, y)[0, 1]"
   ]
  },
  {
   "cell_type": "markdown",
   "metadata": {},
   "source": [
    "<br> <strong> 공분산은 선형적인 관계를 측정하기 떄문에 두 변수가 비선형적으로 함께 변하는 경우는 잘 측정하지 못함</strong>\n",
    "\n",
    "**선형적  : 직선관계**<br>\n",
    "**비선형적 :직선이 아닌관계 ex)곡선**\n",
    "\n",
    "w = z제곱의 관계"
   ]
  },
  {
   "cell_type": "code",
   "execution_count": null,
   "metadata": {},
   "outputs": [],
   "source": [
    "z = [-3, -2, -1, 0, 1, 2, 3]\n",
    "w = [9, 4, 1, 0, 1, 4, 9]"
   ]
  },
  {
   "cell_type": "code",
   "execution_count": null,
   "metadata": {},
   "outputs": [],
   "source": [
    "plt.plot(z, w, 'o')"
   ]
  },
  {
   "cell_type": "code",
   "execution_count": null,
   "metadata": {},
   "outputs": [],
   "source": [
    "np.cov(z,w)[0,1]"
   ]
  },
  {
   "cell_type": "markdown",
   "metadata": {},
   "source": [
    "# 상관계수: 두변수가 함께 변하는 정도를 -1 ~1 범위의 수로 나타낸것\n",
    "\n",
    "## 피어슨 상관계수\n",
    "- 칼 피어슨이 개발한 상관계수\n",
    "- 적률상관계수(product-moment correlation coefficient)라고도 함\n",
    "- 일반적으로 상관계수라고 하면 피어슨 상관계수를 말함\n",
    "\n",
    "## 상관 계수의 해석\n",
    "부호:\n",
    "- 상관이 +인 경우: 두 변수가 같은 방향으로 변화(하나가 증가하면 다른 하나도 증가)\n",
    "- 상관이 -인 경우: 두 변수가 반대 방향으로 변화(하나가 증가하면 다른 하나는 감소)\n",
    "크기:\n",
    "- 상관이= 0 이면 두 변수가 독립,즉, 한 변수의 변화로 다른 변수의 변화를 예측하지 못함\n",
    "- 상관이 클 수록 두 변수는 함께 많이 변화\n",
    "- pearson 상관계수를 제곱하면 분산(=변화량)에서 공유하는 비율\n",
    " 1. 예를 들어 x와 y의 상관계수가 0.4이면 그 제곱은 0.16(=16%)\n",
    " 2. x의 분산 중 16%를 y와 공유 또는 x의 분산중 16%가 y로 설명됨\n",
    " \n",
    "<br>\n",
    "<strong>pearson 상관계수는 공분산을 그 기반으로 하기 때문에, 기본적으로 등간척도/비율척도를 사용한 변수에만  적용이 가능하다</strong>\n",
    "\n",
    "\n",
    "연속형 자료를 나타내는 척도로는 등간 척도와 비율 척도가 있다. <br>\n",
    "등간척도(interval scale): 속성을 편가할 수 있는 균일한 간격을 두고 측정하는 척도<br> \n",
    "비율척도(reatio scale): 절대 영점이 있는 등간 척도"
   ]
  },
  {
   "cell_type": "code",
   "execution_count": null,
   "metadata": {},
   "outputs": [],
   "source": [
    "np.corrcoef(x,y)"
   ]
  },
  {
   "cell_type": "markdown",
   "metadata": {},
   "source": [
    "두변수의 상관계수만 확인하려면"
   ]
  },
  {
   "cell_type": "code",
   "execution_count": null,
   "metadata": {},
   "outputs": [],
   "source": [
    "np.corrcoef(x,y)[0,1]"
   ]
  },
  {
   "cell_type": "code",
   "execution_count": null,
   "metadata": {},
   "outputs": [],
   "source": [
    "cov = np.cov(x, y)[0,1] # 공분산\n",
    "xsd = np.std(x, ddof=1) # x의 표준편차\n",
    "ysd = np.std(y, ddof=1) # y의 표준편차 자유도는 평균으로 인해 n-1 이기 때문에 ddof=1 로 해준다\n",
    "\n",
    "corrocef =  cov/ (xsd*ysd)"
   ]
  },
  {
   "cell_type": "code",
   "execution_count": null,
   "metadata": {},
   "outputs": [],
   "source": [
    "corrocef"
   ]
  },
  {
   "cell_type": "code",
   "execution_count": null,
   "metadata": {},
   "outputs": [],
   "source": [
    "np.corrcoef(z,w)[0,1]"
   ]
  },
  {
   "cell_type": "markdown",
   "metadata": {},
   "source": [
    "## spearman 상관계수\n",
    "\n",
    "- 상관분석을 실시함에 있어 서열척도를 사용한 변수가 포함되어 있거나\n",
    "- 등간/비율척도를 상용한 변수들이라 하더라고, 두 변수 간의 관계가 비선형적 일 때 구하는 상관계수"
   ]
  },
  {
   "cell_type": "code",
   "execution_count": null,
   "metadata": {},
   "outputs": [],
   "source": [
    "import scipy.stats\n",
    "\n",
    "scipy.stats.spearmanr(x, y).correlation"
   ]
  },
  {
   "cell_type": "markdown",
   "metadata": {},
   "source": [
    "## kendall의 tau\n",
    "- spearman의 상관계수와 마찬가지로, 비선형적 관계이거나 서열변수일때 사용"
   ]
  },
  {
   "cell_type": "code",
   "execution_count": null,
   "metadata": {},
   "outputs": [],
   "source": [
    "scipy.stats.kendalltau(x, y).correlation"
   ]
  },
  {
   "cell_type": "code",
   "execution_count": null,
   "metadata": {},
   "outputs": [],
   "source": []
  }
 ],
 "metadata": {
  "kernelspec": {
   "display_name": "Python 3",
   "language": "python",
   "name": "python3"
  },
  "language_info": {
   "codemirror_mode": {
    "name": "ipython",
    "version": 3
   },
   "file_extension": ".py",
   "mimetype": "text/x-python",
   "name": "python",
   "nbconvert_exporter": "python",
   "pygments_lexer": "ipython3",
   "version": "3.7.6"
  },
  "toc": {
   "base_numbering": 1,
   "nav_menu": {},
   "number_sections": true,
   "sideBar": true,
   "skip_h1_title": false,
   "title_cell": "Table of Contents",
   "title_sidebar": "Contents",
   "toc_cell": false,
   "toc_position": {},
   "toc_section_display": true,
   "toc_window_display": false
  }
 },
 "nbformat": 4,
 "nbformat_minor": 4
}
